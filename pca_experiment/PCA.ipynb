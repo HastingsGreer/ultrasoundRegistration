{
 "metadata": {
  "name": "",
  "signature": "sha256:2e03ec596e330ec5d1a463ddb8ed1c74f7e0ff0254e7fb39cd5634cd49d356a4"
 },
 "nbformat": 3,
 "nbformat_minor": 0,
 "worksheets": [
  {
   "cells": [
    {
     "cell_type": "code",
     "collapsed": true,
     "input": [
      "print"
     ],
     "language": "python",
     "metadata": {},
     "outputs": []
    },
    {
     "cell_type": "code",
     "collapsed": true,
     "input": [
      "import functools\n",
      "import numpy as np\n",
      "import vtk\n",
      "from PIL import Image\n",
      "from vtk.util.numpy_support import vtk_to_numpy\n",
      "\n",
      "import matplotlib.pyplot as plt\n",
      "\n",
      "from sklearn.decomposition import PCA\n",
      "\n",
      "def cache(func):\n",
      "    c = {}\n",
      "    def cachedfunc(*args):\n",
      "        if not(args in c):\n",
      "            c[args] = func(*args)\n",
      "        return c[args]\n",
      "    return cachedfunc\n",
      "\n",
      "@cache\n",
      "def getNumpyArray(fname):\n",
      "    imr = vtk.vtkMetaImageReader()\n",
      "    imr.SetFileName(fname)\n",
      "    imr.Update()\n",
      "\n",
      "    im = imr.GetOutput()\n",
      "    rows, cols, layers = im.GetDimensions()\n",
      "    sc = im.GetPointData().GetScalars()\n",
      "    a = vtk_to_numpy(sc)\n",
      "\n",
      "    a = a.reshape(layers, cols, rows)\n",
      "    return a\n",
      "    \n",
      "\n",
      "def pcaFilename(fname, components=4):\n",
      "    a = getNumpyArray(fname)\n",
      "    print a.shape\n",
      "     \n",
      "    transposeA = a.transpose(0, 2, 1).reshape(-1, a.shape[1])\n",
      "    \n",
      "    P = PCA(n_components=components).fit(transposeA)\n",
      "    transformedData = P.transform(transposeA).reshape(-1, a.shape[2], components)\n",
      "    return transformedData, P\n",
      "def pca2Filenames(f1, f2):\n",
      "    a1 = getNumpyArray(f1)[:, 110:390, :]\n",
      "    a2 = getNumpyArray(f2)[:, 110:390, :]\n",
      "    return pca2Images(a1, a2)\n",
      "\n",
      "def pca2Images(a1, a2, components = 4):\n",
      "    print(a1.shape)\n",
      "    transposeA1 = a1.transpose(0, 2, 1).reshape(-1, a1.shape[1])\n",
      "    transposeA2 = a2.transpose(0, 2, 1).reshape(-1, a1.shape[1])\n",
      "    \n",
      "    combined = np.append(transposeA1, transposeA2, axis=0)\n",
      "    P = PCA(n_components=components).fit(combined)\n",
      "    t1 = P.transform(transposeA1).reshape(-1, a1.shape[2], components)\n",
      "    t2 = P.transform(transposeA2).reshape(-1, a1.shape[2], components)\n",
      "    return t1, t2, P    \n",
      "\n",
      "def showPCA(transformedData, P):\n",
      "    for pic, component in zip(range(len(P.components_)), P.components_):\n",
      "        plt.plot(component)\n",
      "        plt.show()\n",
      "        \n",
      "        plt.imshow(pic.reshape(-1, 512))\n",
      "        plt.axes().set_aspect(12)\n",
      "        print \"a\"\n",
      "        plt.show()\n",
      "        \n",
      "def show2PCA(t1, t2, P):\n",
      "    for idx, component in zip(range(len(P.components_)), P.components_):\n",
      "        \n",
      "        \n",
      "        plt.plot(component)\n",
      "        plt.show()\n",
      "        plt.imshow(t1[:,:,idx], cmap=\"Greys\")\n",
      "        plt.show()\n",
      "        plt.imshow(t2[:,:,idx], cmap=\"Greys\")\n",
      "        plt.show()\n",
      "        "
     ],
     "language": "python",
     "metadata": {},
     "outputs": [],
     "prompt_number": 1
    },
    {
     "cell_type": "code",
     "collapsed": false,
     "input": [
      "D1, D2, P = pca2Filenames(\"/media/hastings/A276DE1476DDE955/9-9-2016-US-data/dinosaur/TrackedImageSequence_20160909_130241_dinosaurOnSideB.mha\",\n",
      "                          \"/media/hastings/A276DE1476DDE955/9-9-2016-US-data/dinosaur/TrackedImageSequence_20160909_130151_dinosaurOnSideA.mha\")"
     ],
     "language": "python",
     "metadata": {},
     "outputs": []
    },
    {
     "cell_type": "code",
     "collapsed": true,
     "input": [
      "D1, D2, P = pca2Filenames(\"TrackedImageSequence_20160909_130742_carnivoreOnSideButtonAwayLeft.mha\", \n",
      "              \"TrackedImageSequence_20160909_130838_carnivoreOnSideButtonAwayRight.mha\")"
     ],
     "language": "python",
     "metadata": {},
     "outputs": [
      {
       "output_type": "stream",
       "stream": "stdout",
       "text": [
        "(368, 280, 800)\n"
       ]
      }
     ],
     "prompt_number": 11
    },
    {
     "cell_type": "code",
     "collapsed": true,
     "input": [
      "D1, D2, P = pca2Filenames(\"/media/hastings/A276DE1476DDE955/9-9-2016-US-data/dinosaur/TrackedImageSequence_20160909_131140__carnivoreOnSideRollerButtonAwayLeft.mha\", \n",
      "              \"/media/hastings/A276DE1476DDE955/9-9-2016-US-data/dinosaur/TrackedImageSequence_20160909_131232_carnivoreOnSideRollerButtonAwayRight.mha\")"
     ],
     "language": "python",
     "metadata": {},
     "outputs": []
    },
    {
     "cell_type": "code",
     "collapsed": false,
     "input": [
      "show2PCA(D1, D2, P)"
     ],
     "language": "python",
     "metadata": {},
     "outputs": []
    },
    {
     "cell_type": "code",
     "collapsed": true,
     "input": [
      "def scale_for_image(components):\n",
      "    return np.array(256 * (components - np.min(components)) / (np.max(components) - np.min(components)), dtype=np.uint8)\n",
      "\n",
      "\n",
      "plt.imshow(scale_for_image(D1[:, :, [1, 2, 3]]))\n",
      "plt.show()\n",
      "\n",
      "plt.imshow(scale_for_image(D2[:, :, 1:4]))\n",
      "plt.show()\n",
      "plt.imshow(scale_for_image(np.append(D1, D2, axis=0)[:, :, 1:4]))\n",
      "plt.show()"
     ],
     "language": "python",
     "metadata": {},
     "outputs": [
      {
       "ename": "IndexError",
       "evalue": "index 1 is out of bounds for axis 2 with size 1",
       "output_type": "pyerr",
       "traceback": [
        "\u001b[0;31m---------------------------------------------------------------------------\u001b[0m\n\u001b[0;31mIndexError\u001b[0m                                Traceback (most recent call last)",
        "\u001b[0;32m<ipython-input-6-019a0bddfdda>\u001b[0m in \u001b[0;36m<module>\u001b[0;34m()\u001b[0m\n\u001b[1;32m      3\u001b[0m \u001b[0;34m\u001b[0m\u001b[0m\n\u001b[1;32m      4\u001b[0m \u001b[0;34m\u001b[0m\u001b[0m\n\u001b[0;32m----> 5\u001b[0;31m \u001b[0mplt\u001b[0m\u001b[0;34m.\u001b[0m\u001b[0mimshow\u001b[0m\u001b[0;34m(\u001b[0m\u001b[0mscale_for_image\u001b[0m\u001b[0;34m(\u001b[0m\u001b[0mD1\u001b[0m\u001b[0;34m[\u001b[0m\u001b[0;34m:\u001b[0m\u001b[0;34m,\u001b[0m \u001b[0;34m:\u001b[0m\u001b[0;34m,\u001b[0m \u001b[0;34m[\u001b[0m\u001b[0;36m1\u001b[0m\u001b[0;34m,\u001b[0m \u001b[0;36m2\u001b[0m\u001b[0;34m,\u001b[0m \u001b[0;36m3\u001b[0m\u001b[0;34m]\u001b[0m\u001b[0;34m]\u001b[0m\u001b[0;34m)\u001b[0m\u001b[0;34m)\u001b[0m\u001b[0;34m\u001b[0m\u001b[0m\n\u001b[0m\u001b[1;32m      6\u001b[0m \u001b[0mplt\u001b[0m\u001b[0;34m.\u001b[0m\u001b[0mshow\u001b[0m\u001b[0;34m(\u001b[0m\u001b[0;34m)\u001b[0m\u001b[0;34m\u001b[0m\u001b[0m\n\u001b[1;32m      7\u001b[0m \u001b[0;34m\u001b[0m\u001b[0m\n",
        "\u001b[0;31mIndexError\u001b[0m: index 1 is out of bounds for axis 2 with size 1"
       ]
      }
     ],
     "prompt_number": 6
    },
    {
     "cell_type": "code",
     "collapsed": true,
     "input": [
      "I = Image.fromarray(scale_for_image(D1[:,:,2]))\n",
      "I.save(\"Dino1.bmp\")\n",
      "I = Image.fromarray(scale_for_image(D2[:,:,2]))\n",
      "I.save(\"Dino2.bmp\")"
     ],
     "language": "python",
     "metadata": {},
     "outputs": []
    },
    {
     "cell_type": "code",
     "collapsed": false,
     "input": [
      "import numpy as np\n",
      "D1 = np.array([[[27, 26]]])"
     ],
     "language": "python",
     "metadata": {},
     "outputs": [],
     "prompt_number": 9
    },
    {
     "cell_type": "code",
     "collapsed": false,
     "input": [
      "import itk\n",
      "def writeVolume(nparray, name):\n",
      "    ImageType = itk.Image[itk.UC, 3]\n",
      "    ReaderType = itk.ImageFileReader[ImageType]\n",
      "    buff = itk.BridgeNumPy.PyBuffer[ImageType]\n",
      "    Im = buff.GetImageFromArray(scale_for_image(nparray))\n",
      "    Im.Update()\n",
      "    #print Im\n",
      "    x = buff.GetArrayFromImage(Im)\n",
      "    print x[0,0,0]\n",
      "    WriterType = itk.ImageFileWriter[ImageType]\n",
      "    writer = WriterType.New()\n",
      "    writer.SetInput(Im)\n",
      "    writer.SetFileName(name)\n",
      "    writer.Update()\n",
      "    \n",
      "x = writeVolume(D1, \"Dino1.mha\")\n",
      "y = writeVolume(getNumpyArray(\"/media/hastings/A276DE1476DDE955/9-9-2016-US-data/dinosaur/TrackedImageSequence_20160909_131140__carnivoreOnSideRollerButtonAwayLeft.mha\"), \"Dino1Raw.mha\")"
     ],
     "language": "python",
     "metadata": {},
     "outputs": []
    },
    {
     "cell_type": "code",
     "collapsed": false,
     "input": [
      "import itk\n",
      "itk.SI\n",
      "getNumpyArray(\"/media/hastings/A276DE1476DDE955/9-9-2016-US-data/dinosaur/TrackedImageSequence_20160909_131140__carnivoreOnSideRollerButtonAwayLeft.mha\")"
     ],
     "language": "python",
     "metadata": {},
     "outputs": [
      {
       "metadata": {},
       "output_type": "pyout",
       "prompt_number": 2,
       "text": [
        "array([[[0, 0, 0, ..., 0, 0, 0],\n",
        "        [0, 0, 0, ..., 0, 0, 0],\n",
        "        [0, 0, 0, ..., 0, 0, 0],\n",
        "        ..., \n",
        "        [0, 0, 0, ..., 0, 0, 0],\n",
        "        [0, 0, 0, ..., 0, 0, 0],\n",
        "        [0, 0, 0, ..., 0, 0, 0]],\n",
        "\n",
        "       [[0, 0, 0, ..., 0, 0, 0],\n",
        "        [0, 0, 0, ..., 0, 0, 0],\n",
        "        [0, 0, 0, ..., 0, 0, 0],\n",
        "        ..., \n",
        "        [0, 0, 0, ..., 0, 0, 0],\n",
        "        [0, 0, 0, ..., 0, 0, 0],\n",
        "        [0, 0, 0, ..., 0, 0, 0]],\n",
        "\n",
        "       [[0, 0, 0, ..., 0, 0, 0],\n",
        "        [0, 0, 0, ..., 0, 0, 0],\n",
        "        [0, 0, 0, ..., 0, 0, 0],\n",
        "        ..., \n",
        "        [0, 0, 0, ..., 0, 0, 0],\n",
        "        [0, 0, 0, ..., 0, 0, 0],\n",
        "        [0, 0, 0, ..., 0, 0, 0]],\n",
        "\n",
        "       ..., \n",
        "       [[0, 0, 0, ..., 0, 0, 0],\n",
        "        [0, 0, 0, ..., 0, 0, 0],\n",
        "        [0, 0, 0, ..., 0, 0, 0],\n",
        "        ..., \n",
        "        [0, 0, 0, ..., 0, 0, 0],\n",
        "        [0, 0, 0, ..., 0, 0, 0],\n",
        "        [0, 0, 0, ..., 0, 0, 0]],\n",
        "\n",
        "       [[0, 0, 0, ..., 0, 0, 0],\n",
        "        [0, 0, 0, ..., 0, 0, 0],\n",
        "        [0, 0, 0, ..., 0, 0, 0],\n",
        "        ..., \n",
        "        [0, 0, 0, ..., 0, 0, 0],\n",
        "        [0, 0, 0, ..., 0, 0, 0],\n",
        "        [0, 0, 0, ..., 0, 0, 0]],\n",
        "\n",
        "       [[0, 0, 0, ..., 0, 0, 0],\n",
        "        [0, 0, 0, ..., 0, 0, 0],\n",
        "        [0, 0, 0, ..., 0, 0, 0],\n",
        "        ..., \n",
        "        [0, 0, 0, ..., 0, 0, 0],\n",
        "        [0, 0, 0, ..., 0, 0, 0],\n",
        "        [0, 0, 0, ..., 0, 0, 0]]], dtype=uint8)"
       ]
      }
     ],
     "prompt_number": 2
    },
    {
     "cell_type": "code",
     "collapsed": true,
     "input": [
      "plt.imshow(np.histogram2d(D1[:, 0], D1[:, 2], 20)[0])\n",
      "plt.axes().set_aspect(1)\n",
      "plt.show()"
     ],
     "language": "python",
     "metadata": {},
     "outputs": []
    },
    {
     "cell_type": "code",
     "collapsed": true,
     "input": [
      "np.histogram2d?"
     ],
     "language": "python",
     "metadata": {},
     "outputs": []
    },
    {
     "cell_type": "code",
     "collapsed": true,
     "input": [
      "DSamp, PSamp = pcaFilename(\"USProstate.mha\")\n",
      "showPCA(DSamp, PSamp)"
     ],
     "language": "python",
     "metadata": {},
     "outputs": []
    },
    {
     "cell_type": "code",
     "collapsed": true,
     "input": [
      "a = getNumpyArray(\"USProstate.mha\")"
     ],
     "language": "python",
     "metadata": {},
     "outputs": []
    },
    {
     "cell_type": "code",
     "collapsed": true,
     "input": [
      "plt.imshow(np.max(a, 0), aspect=1)"
     ],
     "language": "python",
     "metadata": {},
     "outputs": []
    },
    {
     "cell_type": "code",
     "collapsed": true,
     "input": [
      "a1 = getNumpyArray(\"TrackedImageSequence_20160909_130742_carnivoreOnSideButtonAwayLeft.mha\")"
     ],
     "language": "python",
     "metadata": {},
     "outputs": []
    },
    {
     "cell_type": "code",
     "collapsed": true,
     "input": [
      "plt.imshow(np.max(a1, 2))"
     ],
     "language": "python",
     "metadata": {},
     "outputs": []
    },
    {
     "cell_type": "code",
     "collapsed": true,
     "input": [
      "plt.imshow(a1[:, 170, :], vmin=np.min(a1), vmax=np.max(a1))\n"
     ],
     "language": "python",
     "metadata": {},
     "outputs": []
    },
    {
     "cell_type": "code",
     "collapsed": true,
     "input": [
      "%matplotlib inline"
     ],
     "language": "python",
     "metadata": {},
     "outputs": []
    },
    {
     "cell_type": "code",
     "collapsed": true,
     "input": [
      "D1, P1 = pcaFilename(\"TrackedImageSequence_20160909_130838_carnivoreOnSideButtonAwayRight.mha\")\n",
      "D2, P2 = pcaFilename(\"TrackedImageSequence_20160909_130742_carnivoreOnSideButtonAwayLeft.mha\")\n"
     ],
     "language": "python",
     "metadata": {},
     "outputs": []
    },
    {
     "cell_type": "code",
     "collapsed": true,
     "input": [
      "ct = getNumpyArray(\"../../../slicedCTtrainingdata/CT-chest.mha\")"
     ],
     "language": "python",
     "metadata": {},
     "outputs": []
    },
    {
     "cell_type": "code",
     "collapsed": false,
     "input": [
      "ct.shape"
     ],
     "language": "python",
     "metadata": {},
     "outputs": []
    },
    {
     "cell_type": "code",
     "collapsed": false,
     "input": [
      "D1, P1 = pcaFilename(\"../../../slicedCTtrainingdata/CT-chest.mha\")\n"
     ],
     "language": "python",
     "metadata": {},
     "outputs": []
    },
    {
     "cell_type": "code",
     "collapsed": false,
     "input": [
      "D1.shape"
     ],
     "language": "python",
     "metadata": {},
     "outputs": []
    },
    {
     "cell_type": "code",
     "collapsed": false,
     "input": [
      "1/25000"
     ],
     "language": "python",
     "metadata": {},
     "outputs": []
    },
    {
     "cell_type": "code",
     "collapsed": false,
     "input": [
      "plt.imshow(np.log(np.sum(ctd**.04, 1)))\n",
      "plt.show()"
     ],
     "language": "python",
     "metadata": {},
     "outputs": []
    },
    {
     "cell_type": "code",
     "collapsed": false,
     "input": [
      "np.max(ctd)"
     ],
     "language": "python",
     "metadata": {},
     "outputs": []
    },
    {
     "cell_type": "code",
     "collapsed": false,
     "input": [
      "np.min(ctd)"
     ],
     "language": "python",
     "metadata": {},
     "outputs": []
    },
    {
     "cell_type": "code",
     "collapsed": false,
     "input": [
      "ctd =( 3000. + ct)/6000"
     ],
     "language": "python",
     "metadata": {},
     "outputs": []
    },
    {
     "cell_type": "code",
     "collapsed": false,
     "input": [
      "x = getNumpyArray(\"Dino1.mha\")"
     ],
     "language": "python",
     "metadata": {},
     "outputs": []
    },
    {
     "cell_type": "code",
     "collapsed": false,
     "input": [
      "np.max(x)"
     ],
     "language": "python",
     "metadata": {},
     "outputs": []
    },
    {
     "cell_type": "code",
     "collapsed": false,
     "input": [],
     "language": "python",
     "metadata": {},
     "outputs": []
    }
   ],
   "metadata": {}
  }
 ]
}